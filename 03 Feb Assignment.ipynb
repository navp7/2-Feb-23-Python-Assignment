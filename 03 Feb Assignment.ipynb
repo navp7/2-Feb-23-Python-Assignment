{
 "cells": [
  {
   "cell_type": "markdown",
   "id": "40a9a723-14a5-4134-acb7-dd02b8f6f728",
   "metadata": {
    "tags": []
   },
   "source": [
    "# 03 Feb Assignment"
   ]
  },
  {
   "cell_type": "markdown",
   "id": "6651bfe9-d724-486c-ab21-776cd9821897",
   "metadata": {},
   "source": [
    "### Q1. Which keyword is used to create a function? Create a function to return a list of odd numbers in the range of 1 to 25."
   ]
  },
  {
   "cell_type": "markdown",
   "id": "af1a7286-2ac7-477b-ab95-3e03e24a72b9",
   "metadata": {},
   "source": [
    "#### ANS: Keyword 'def' is used to create a function."
   ]
  },
  {
   "cell_type": "code",
   "execution_count": 1,
   "id": "45e4ce73-7f1f-421e-adbd-253b62334045",
   "metadata": {},
   "outputs": [
    {
     "data": {
      "text/plain": [
       "[1, 3, 5, 7, 9, 11, 13, 15, 17, 19, 21, 23, 25]"
      ]
     },
     "execution_count": 1,
     "metadata": {},
     "output_type": "execute_result"
    }
   ],
   "source": [
    "#Code\n",
    "def odd_num(n):\n",
    "    x=[]\n",
    "    for i in range(1,n+1):\n",
    "        if (i%2)!=0:\n",
    "            x.append(i)\n",
    "    return(x)\n",
    "odd_num(25)"
   ]
  },
  {
   "cell_type": "markdown",
   "id": "c95c6617-0768-4198-88d3-1a5eb5f4067a",
   "metadata": {},
   "source": [
    "### Q2. Why *args and **kwargs is used in some functions? Create a function each for *args and **kwargs to demonstrate their use."
   ]
  },
  {
   "cell_type": "markdown",
   "id": "263d7ad8-206b-4772-a070-7aec1708341b",
   "metadata": {},
   "source": [
    "#### ANS: When many number of arguments to pass in a function we can use *args and **kwargs as arguments.\n",
    "\n",
    "#### 1. * args allows us to pass a variable number of non-keyword arguments to a Python function. In the function, we should use an asterisk (*) before the parameter name to pass a variable number of arguments."
   ]
  },
  {
   "cell_type": "code",
   "execution_count": 5,
   "id": "59c9190b-ffc4-42a0-8886-c43dd00fa9c3",
   "metadata": {},
   "outputs": [
    {
     "name": "stdout",
     "output_type": "stream",
     "text": [
      "5\n",
      "10\n",
      "17\n",
      "26\n"
     ]
    }
   ],
   "source": [
    "#Code:\n",
    "def add(*numbers):\n",
    "    total = 0\n",
    "    for i in numbers:\n",
    "        total += i\n",
    "    return total\n",
    "\n",
    "\n",
    "print(add(2, 3))\n",
    "print(add(2, 3, 5))\n",
    "print(add(2, 3, 5, 7))\n",
    "print(add(2, 3, 5, 7, 9))"
   ]
  },
  {
   "cell_type": "markdown",
   "id": "61fd7a9a-6cd7-4fc1-b6bf-0af12c1591cf",
   "metadata": {},
   "source": [
    "#### 2. ** kwargs allows us to pass a variable number of keyword arguments to a Python function. In the function, we use the double-asterisk (**) before the parameter name to denote this type of argument."
   ]
  },
  {
   "cell_type": "code",
   "execution_count": 6,
   "id": "86269b3f-7131-4906-95ff-956ca0f538aa",
   "metadata": {},
   "outputs": [
    {
     "name": "stdout",
     "output_type": "stream",
     "text": [
      "20\n",
      "30\n",
      "12\n"
     ]
    }
   ],
   "source": [
    "#Code:\n",
    "def total_fruits(**fruits):\n",
    "    total = 0\n",
    "    for amount in fruits.values():\n",
    "        total += amount\n",
    "    return total\n",
    "\n",
    "\n",
    "print(total_fruits(banana=5, mango=7, apple=8))\n",
    "print(total_fruits(banana=5, mango=7, apple=8, oranges=10))\n",
    "print(total_fruits(banana=5, mango=7))"
   ]
  },
  {
   "cell_type": "markdown",
   "id": "021afbf4-ffc7-4284-9f03-e10f3bc8e5b2",
   "metadata": {},
   "source": [
    "## Q3. What is an iterator in python? Name the method used to initialise the iterator object and the method used for iteration. Use these methods to print the first five elements of the given list [2, 4, 6, 8, 10, 12, 14, 16, 18, 20]."
   ]
  },
  {
   "cell_type": "markdown",
   "id": "5398a400-e71b-4750-af7a-4cccbaa46ec1",
   "metadata": {},
   "source": [
    "#### ANS: Iterator in Python is an object that is used to iterate over iterable objects like lists, tuples, dicts, and sets. The iterator object is initialized using the iter() method. It uses the next() method for iteration.\n",
    "\n",
    "#### __iter__(): The iter() method is called for the initialization of an iterator. This returns an iterator object\n",
    "#### __next__(): The next method returns the next value for the iterable. When we use a for loop to traverse any iterable object, internally it uses the iter() method to get an iterator object, which further uses the next() method to iterate over. This method raises a StopIteration to signal the end of the iteration."
   ]
  },
  {
   "cell_type": "code",
   "execution_count": 9,
   "id": "70f51b23-638d-4930-9458-5bf1a567da11",
   "metadata": {},
   "outputs": [
    {
     "name": "stdout",
     "output_type": "stream",
     "text": [
      "2\n",
      "4\n",
      "6\n",
      "8\n",
      "10\n"
     ]
    }
   ],
   "source": [
    "#Code:\n",
    "num = [2, 4, 6, 8, 10, 12, 14, 16, 18, 20]\n",
    "first_five = iter(num)\n",
    "\n",
    "print(next(first_five))\n",
    "print(next(first_five))\n",
    "print(next(first_five))\n",
    "print(next(first_five))\n",
    "print(next(first_five))"
   ]
  },
  {
   "cell_type": "markdown",
   "id": "58152617-a50a-42b3-adf0-1b6e2b105e89",
   "metadata": {},
   "source": [
    "## Q4. What is a generator function in python? Why yield keyword is used? Give an example of a generator function."
   ]
  },
  {
   "cell_type": "markdown",
   "id": "d55c8780-21dc-4b1c-973c-7b7fd3934307",
   "metadata": {},
   "source": [
    "#### ANS: Generator functions are a special kind of function that return a iterator called a generator iterator. These are objects that you can loop over like a list. However, unlike lists, iterators do not store their contents in memory.\n",
    "\n",
    "#### A generator iterator generates and returns a value on each call of its __next__() method. When the object runs out of values to return, it raises a StopIteration exception."
   ]
  },
  {
   "cell_type": "markdown",
   "id": "a069ea2f-8539-4f50-bd06-8a5e67f6c917",
   "metadata": {},
   "source": [
    "#### The yield keyword in Python is similar to a return statement used for returning values in Python which returns a generator object to the one who calls the function which contains yield, instead of simply returning a value. The main difference between them is, the return statement terminates the execution of the function. Whereas, the yield statement only pauses the execution of the function. Another difference is return statements are never executed. Whereas, yield statements are executed when the function resumes its execution."
   ]
  },
  {
   "cell_type": "code",
   "execution_count": 1,
   "id": "dfa902ea-3977-401f-ba7f-9e7b3e071e5a",
   "metadata": {},
   "outputs": [
    {
     "name": "stdout",
     "output_type": "stream",
     "text": [
      "1\n",
      "4\n",
      "9\n",
      "16\n",
      "25\n"
     ]
    }
   ],
   "source": [
    "#Code:\n",
    "def fun_generator():\n",
    "    my_list = [1, 2, 3, 4, 5]\n",
    "    for i in my_list:\n",
    "        yield i ** 2\n",
    "\n",
    "square = fun_generator()\n",
    "print(next(square))\n",
    "print(next(square))\n",
    "print(next(square))\n",
    "print(next(square))\n",
    "print(next(square))"
   ]
  },
  {
   "cell_type": "markdown",
   "id": "d1c50f57-14d1-4650-be26-cf52e15cb8ff",
   "metadata": {},
   "source": [
    "## Q5. Create a generator function for prime numbers less than 1000. Use the next() method to print the first 20 prime numbers."
   ]
  },
  {
   "cell_type": "code",
   "execution_count": 2,
   "id": "c1281a39-c91e-468a-bf03-e14649a8268f",
   "metadata": {},
   "outputs": [
    {
     "name": "stdout",
     "output_type": "stream",
     "text": [
      "2\n",
      "3\n",
      "5\n",
      "7\n",
      "11\n",
      "13\n",
      "17\n",
      "19\n",
      "23\n",
      "29\n",
      "31\n",
      "37\n",
      "41\n",
      "43\n",
      "47\n",
      "53\n",
      "59\n",
      "61\n",
      "67\n",
      "71\n"
     ]
    }
   ],
   "source": [
    "#Code\n",
    "\n",
    "def num_prime():\n",
    "    x=[]\n",
    "    x= range(2,1000)\n",
    "    primes = []\n",
    "    for num in x:\n",
    "        # Assume number is prime until shown it is not. \n",
    "        isPrime = True\n",
    "       \n",
    "        for i in range(2,int(num ** 0.5) + 1):\n",
    "            if num % i == 0:\n",
    "                isPrime = False\n",
    "                break\n",
    "\n",
    "        if isPrime:\n",
    "            primes.append(num)\n",
    "    return(iter(primes))\n",
    "\n",
    "\n",
    "fp = num_prime()\n",
    "count=1\n",
    "while count<=20:\n",
    "    print(next(fp))\n",
    "    count = count+1"
   ]
  },
  {
   "cell_type": "code",
   "execution_count": null,
   "id": "c87b2b07-bfa1-455b-82f1-936f5efca03f",
   "metadata": {},
   "outputs": [],
   "source": []
  }
 ],
 "metadata": {
  "kernelspec": {
   "display_name": "Python 3 (ipykernel)",
   "language": "python",
   "name": "python3"
  },
  "language_info": {
   "codemirror_mode": {
    "name": "ipython",
    "version": 3
   },
   "file_extension": ".py",
   "mimetype": "text/x-python",
   "name": "python",
   "nbconvert_exporter": "python",
   "pygments_lexer": "ipython3",
   "version": "3.10.8"
  }
 },
 "nbformat": 4,
 "nbformat_minor": 5
}
