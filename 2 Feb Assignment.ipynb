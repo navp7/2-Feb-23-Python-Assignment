{
 "cells": [
  {
   "cell_type": "markdown",
   "id": "2a6b0351-440f-4897-a8db-dfd7d0ca3203",
   "metadata": {},
   "source": [
    "# Python Assignment Questions"
   ]
  },
  {
   "cell_type": "markdown",
   "id": "fa5aec1c-dde1-45bb-91fd-03a73c0ae081",
   "metadata": {},
   "source": [
    "### Q1. What are the characteristics of the tuples? Is tuple immutable?\n",
    "\n",
    "1. Tuples are ordered, indexed collections of data. Similar to string indices, the first value in the tuple will have the index [0], the second value [1], and so on. \n",
    "\n",
    "2. Tuples can store duplicate values.\n",
    "\n",
    "3. Tuples are immutable because once data is assigned to a tuple, the values cannot be changed.\n",
    "\n",
    "4. Tuples allow you to store several data items in one variable. You can choose to store only one kind of data in a tuple or mix it up as needed.\n"
   ]
  },
  {
   "cell_type": "markdown",
   "id": "08ae28d9-674f-420a-9e21-bb8f90ec7796",
   "metadata": {},
   "source": [
    "### Q2. What are the two tuple methods in python? Give an example of each method. Give a reason why  tuples have only two in-built methods as compared to Lists."
   ]
  },
  {
   "cell_type": "markdown",
   "id": "4faf719c-f03f-42d8-b71b-090304a6a664",
   "metadata": {},
   "source": [
    "Python has two built-in methods that you can use on tuples.\n",
    "\n",
    "count() -  Returns the number of times a specified value occurs in a tuple.\n",
    "\n",
    "index() - Searches the tuple for a specified value and returns the position of where it was found."
   ]
  },
  {
   "cell_type": "code",
   "execution_count": 3,
   "id": "b4f5455d-aaea-4491-86d4-312f5ae8f1a5",
   "metadata": {},
   "outputs": [
    {
     "name": "stdout",
     "output_type": "stream",
     "text": [
      "Count of 3 in t1 is: 4\n",
      "First occurrence of 3 is 3\n"
     ]
    }
   ],
   "source": [
    "#Creating tuples\n",
    "t1 = (0, 1, 2, 3, 2, 3, 1, 3, 3)\n",
    "\n",
    "#Count the appearance of 3\n",
    "n = t1.count(3)\n",
    "print('Count of 3 in t1 is:', n)\n",
    "\n",
    "#Finding the occurence of 3\n",
    "i = t1.index(3)\n",
    "print('First occurrence of 3 is', i)"
   ]
  },
  {
   "cell_type": "markdown",
   "id": "125d7571-83e2-41ba-b64e-31ea10042258",
   "metadata": {},
   "source": [
    "Since tuples are immutable, they can't be changed once created. This lets you use them as keys in a dictionary, whereas a list might have its contents changed, and thus can't be hashed. That’s the reason only limited methods are given to operate with tuples."
   ]
  },
  {
   "cell_type": "markdown",
   "id": "67c8ee90-af89-40bb-9632-8a026b02beee",
   "metadata": {},
   "source": [
    "### Q3.  Which collection datatypes in python do not allow duplicate items? Write a code using a set to remove  duplicates from the given list. \n",
    "\n",
    "List = [1, 1, 1, 2, 1, 3, 1, 4, 2, 1, 2, 2, 2, 3, 2, 4, 3, 1, 3, 2, 3, 3, 3, 4, 4, 1, 4, 2, 4, 3, 4, 4] \n"
   ]
  },
  {
   "cell_type": "markdown",
   "id": "2ce1d8d9-915f-47c4-8e65-a95a20ca3f7f",
   "metadata": {},
   "source": [
    "Set is a collection of datatypes which is unordered and unindexed and allows only unique items."
   ]
  },
  {
   "cell_type": "code",
   "execution_count": 5,
   "id": "119fcbbd-f5f5-4bf2-96eb-a8577776e049",
   "metadata": {},
   "outputs": [
    {
     "name": "stdout",
     "output_type": "stream",
     "text": [
      "{1, 2, 3, 4}\n"
     ]
    }
   ],
   "source": [
    "#CODE:\n",
    "List = [1, 1, 1, 2, 1, 3, 1, 4, 2, 1, 2, 2, 2, 3, 2, 4, 3, 1, 3, 2, 3, 3, 3, 4, 4, 1, 4, 2, 4, 3, 4, 4] \n",
    "s1 = set(List)\n",
    "print(s1)"
   ]
  },
  {
   "cell_type": "markdown",
   "id": "32207108-ee4b-459e-a0ce-2e4d0b228e1c",
   "metadata": {},
   "source": [
    "### Q4. Explain the difference between the union() and update() methods for a set. Give an example of  each method. \n"
   ]
  },
  {
   "cell_type": "markdown",
   "id": "dde8ce37-7c0a-4bd6-8e46-df49476ffc2e",
   "metadata": {},
   "source": [
    "Union : Return a set that contains all items from both sets, duplicates are excluded."
   ]
  },
  {
   "cell_type": "code",
   "execution_count": 7,
   "id": "73512bc7-bc33-4bb6-8bdd-f5d5b9a682a5",
   "metadata": {},
   "outputs": [
    {
     "name": "stdout",
     "output_type": "stream",
     "text": [
      "{'Science', 'Impact', 'Data', 'Masters', 'Batch'}\n"
     ]
    }
   ],
   "source": [
    "#Example\n",
    "a = {\"Data\", \"Science\", \"Masters\"}\n",
    "b = {\"Impact\", \"Science\", \"Batch\"}\n",
    "c = a.union(b)\n",
    "print(c)"
   ]
  },
  {
   "cell_type": "markdown",
   "id": "974b3bd2-b4f0-4e74-8a39-9e409af87413",
   "metadata": {},
   "source": [
    "Update: It updates the current set, by adding items from another set (or any other iterable). If an item is    present in both sets, only one appearance of this item will be present in the updated set."
   ]
  },
  {
   "cell_type": "code",
   "execution_count": 8,
   "id": "51a6e829-e17e-419f-a79a-4056df5cd13b",
   "metadata": {},
   "outputs": [
    {
     "name": "stdout",
     "output_type": "stream",
     "text": [
      "{'Science', 'Data', 'Masters', 'Batch'}\n"
     ]
    }
   ],
   "source": [
    "#Example\n",
    "a = {\"Data\", \"Science\", \"Masters\"}\n",
    "b = {\"Data\", \"Science\", \"Batch\"}\n",
    "a.update(b)\n",
    "print(a)"
   ]
  },
  {
   "cell_type": "markdown",
   "id": "2ed12263-5ea6-4993-b380-4d19f0d11f0b",
   "metadata": {},
   "source": [
    "### Q5. What is a dictionary? Give an example. Also, state whether a dictionary is ordered or unordered."
   ]
  },
  {
   "cell_type": "markdown",
   "id": "5ab1af6f-052e-424d-b7af-c55e9725728e",
   "metadata": {},
   "source": [
    "Dictionaries are a type of dataset which is used to store data values in key:value pairs.\n",
    "A dictionary is a collection which is ordered, changeable and does not allow duplicates.\n"
   ]
  },
  {
   "cell_type": "code",
   "execution_count": 10,
   "id": "8a239fde-13fc-4e07-a0a8-1f67c5907271",
   "metadata": {},
   "outputs": [
    {
     "name": "stdout",
     "output_type": "stream",
     "text": [
      "{'brand': 'Ford', 'model': 'Mustang', 'year': 1964}\n"
     ]
    }
   ],
   "source": [
    "#Example:\n",
    "thisdict = {\n",
    "  \t\"brand\": \"Ford\",\n",
    " \"model\": \"Mustang\",\n",
    " \t \"year\": 1964}\n",
    "print(thisdict)"
   ]
  },
  {
   "cell_type": "markdown",
   "id": "c53157e6-76eb-4299-a2b1-c13045d9f100",
   "metadata": {},
   "source": [
    "### Q6. Can we create a nested dictionary? If so, please give an example by creating a simple one-level  nested dictionary. \n"
   ]
  },
  {
   "cell_type": "markdown",
   "id": "62b011b4-ae6a-456b-8724-d12fda020415",
   "metadata": {},
   "source": [
    "Yes, we can create a nested dictionary."
   ]
  },
  {
   "cell_type": "code",
   "execution_count": 12,
   "id": "39d90417-b65b-4527-ae8a-8c4788e1df97",
   "metadata": {},
   "outputs": [
    {
     "name": "stdout",
     "output_type": "stream",
     "text": [
      "{'child1': {'name': 'Ravi', 'year': 2004}, 'child2': {'name': 'Sameer', 'year': 2007}, 'child3': {'name': 'Kishan', 'year': 2011}}\n"
     ]
    }
   ],
   "source": [
    "family = {\"child1\" : { \"name\" : \"Ravi\",\"year\" : 2004 },\n",
    " \t\t\t \"child2\" : {\"name\" : \"Sameer\",\"year\" : 2007},\n",
    "  \t\t\t\"child3\" : {\"name\" : \"Kishan\",\"year\" : 2011}}\n",
    "print(family)\n"
   ]
  },
  {
   "cell_type": "markdown",
   "id": "0666bc04-e9c3-4acc-874a-6a23b452c8da",
   "metadata": {},
   "source": [
    "### Q7. Using setdefault() method, create key named topics in the given dictionary and also add the value of  the key as this \n",
    "list  ['Python', 'Machine Learning’, 'Deep Learning'] \n",
    "\n",
    "dict1 = {'language' : 'Python', 'course': 'Data Science Masters'}\n"
   ]
  },
  {
   "cell_type": "code",
   "execution_count": 13,
   "id": "01ab6f3d-13ee-4063-b308-b319a0f9da80",
   "metadata": {},
   "outputs": [
    {
     "name": "stdout",
     "output_type": "stream",
     "text": [
      "Python\n",
      "Data Science Masters\n",
      "{'language': 'Python', 'course': 'Data Science Masters', 'language1': 'Python', 'course1': 'Machine Learning', 'course2': 'Deep Learning'}\n"
     ]
    }
   ],
   "source": [
    "l1 = [\"Python\", \"Machine Learning\", \"Deep Learning\"] \n",
    "dict1 = {'language' : 'Python', 'course': 'Data Science Masters'}\n",
    "x = dict1.setdefault('language')\n",
    "y = dict1.setdefault('course')\n",
    "print(x)\n",
    "print(y)\n",
    "dict1.setdefault('language1',l1[0])\n",
    "dict1.setdefault('course1',l1[1])\n",
    "dict1.setdefault('course2',l1[2])\n",
    "print(dict1)"
   ]
  },
  {
   "cell_type": "markdown",
   "id": "703fe051-edcb-4c83-a93c-51fe4807874f",
   "metadata": {},
   "source": [
    "### Q8. What are the three view objects in dictionaries? Use the three in-built methods in python to display  these three view objects for the given dictionary. \n",
    "### dict1 = {'Sport': 'Cricket' , 'Teams': ['India', 'Australia', 'England', 'South Africa', 'Sri Lanka', 'New Zealand']} \n"
   ]
  },
  {
   "cell_type": "markdown",
   "id": "b505259e-3e1e-487e-954a-4a5b07d9f9ed",
   "metadata": {},
   "source": [
    "The main view objects of dictionary in python are keys, values and items.\n",
    "They provide a non-constant view of the dictionary’s entries.\n",
    "Keys holds all the keys of the dictionary, the values objects holds all the values, whereas the items holds the key-value pairs."
   ]
  },
  {
   "cell_type": "markdown",
   "id": "be3f0761-e5a9-4614-8df5-3c833203e268",
   "metadata": {},
   "source": [
    "#### 1. Keys\n",
    "The view object keys represent all the keys in a dictionary. You can retrieve the contents of this object using the keys() method."
   ]
  },
  {
   "cell_type": "code",
   "execution_count": 15,
   "id": "fee6dfdd-47d5-41dd-8666-02659d5af095",
   "metadata": {},
   "outputs": [
    {
     "name": "stdout",
     "output_type": "stream",
     "text": [
      "dict_keys(['Sport', 'Teams'])\n",
      "<class 'dict_keys'>\n"
     ]
    }
   ],
   "source": [
    "#Example:\n",
    "dict1 = {'Sport': 'Cricket' , 'Teams': ['India', 'Australia', 'England', 'South Africa', 'Sri Lanka', 'New Zealand']} \n",
    "key = dict1.keys()\n",
    "print(key)\n",
    "print(type(key))"
   ]
  },
  {
   "cell_type": "markdown",
   "id": "a8df583b-346c-4f17-9801-8458fc7fdc59",
   "metadata": {},
   "source": [
    "#### 2.Values\n",
    "values() is an built in method of Python programming language which returns a view object. That view object contains the value of the dictionary as a list."
   ]
  },
  {
   "cell_type": "code",
   "execution_count": 16,
   "id": "4b0848f4-be29-4542-abd2-14b47efa50a7",
   "metadata": {},
   "outputs": [
    {
     "name": "stdout",
     "output_type": "stream",
     "text": [
      "dict_values(['Cricket', ['India', 'Australia', 'England', 'South Africa', 'Sri Lanka', 'New Zealand']])\n",
      "<class 'dict_values'>\n"
     ]
    }
   ],
   "source": [
    "#Example:\n",
    "dict1 = {'Sport': 'Cricket' , 'Teams': ['India', 'Australia', 'England', 'South Africa', 'Sri Lanka', 'New Zealand']} \n",
    "value = dict1.values()\n",
    "print(value)\n",
    "print(type(value))"
   ]
  },
  {
   "cell_type": "markdown",
   "id": "84f23c6a-9d37-4309-b72e-835664a31b63",
   "metadata": {},
   "source": [
    "#### 3.Items\n",
    "The items() method returns a new view of the dictionary’s items ((key, value) pairs) as a list with all dictionary keys with values."
   ]
  },
  {
   "cell_type": "code",
   "execution_count": 17,
   "id": "c65dfcac-aa60-4942-8f4a-a468d0d84a6d",
   "metadata": {},
   "outputs": [
    {
     "name": "stdout",
     "output_type": "stream",
     "text": [
      "dict_items([('Sport', 'Cricket'), ('Teams', ['India', 'Australia', 'England', 'South Africa', 'Sri Lanka', 'New Zealand'])])\n",
      "<class 'dict_items'>\n"
     ]
    }
   ],
   "source": [
    "#Example:\n",
    "dict1 = {'Sport': 'Cricket' , 'Teams': ['India', 'Australia', 'England', 'South Africa', 'Sri Lanka', 'New Zealand']} \n",
    "item = dict1.items()\n",
    "print(item)\n",
    "print(type(item))"
   ]
  },
  {
   "cell_type": "code",
   "execution_count": null,
   "id": "bea6de0b-5f0e-4909-8aca-cd15c8f69560",
   "metadata": {},
   "outputs": [],
   "source": []
  }
 ],
 "metadata": {
  "kernelspec": {
   "display_name": "Python 3 (ipykernel)",
   "language": "python",
   "name": "python3"
  },
  "language_info": {
   "codemirror_mode": {
    "name": "ipython",
    "version": 3
   },
   "file_extension": ".py",
   "mimetype": "text/x-python",
   "name": "python",
   "nbconvert_exporter": "python",
   "pygments_lexer": "ipython3",
   "version": "3.10.8"
  }
 },
 "nbformat": 4,
 "nbformat_minor": 5
}
